{
 "cells": [
  {
   "cell_type": "code",
   "execution_count": 1,
   "metadata": {},
   "outputs": [],
   "source": [
    "import numpy as np\n",
    "import pandas as pd\n",
    "import matplotlib.pyplot as plt\n",
    "import cvxpy as cp\n",
    "import openpyxl\n",
    "import pickle\n",
    "\n",
    "from helper_functions import *"
   ]
  },
  {
   "cell_type": "code",
   "execution_count": 2,
   "metadata": {},
   "outputs": [
    {
     "name": "stdout",
     "output_type": "stream",
     "text": [
      "Successfully assigned value to t_max as [6.]\n",
      "Successfully assigned value to g as [0.001]\n",
      "Successfully assigned value to h_w as [102375.]\n",
      "Successfully assigned value to h_s as [43875.]\n",
      "Successfully assigned value to l_b as [375000.]\n",
      "Successfully assigned value to gamma as [80.]\n",
      "Successfully assigned value to p_bse as [0.157]\n",
      "Successfully assigned value to i as [500000.]\n",
      "Successfully assigned value to w as [50.]\n",
      "Successfully assigned value to lf as [0.85]\n",
      "Successfully assigned value to rm as [0.15]\n"
     ]
    }
   ],
   "source": [
    "#Imports parameters from pickle file\n",
    "prms = load_prms()\n",
    "\n",
    "#The scalars for the system are also embedded in this prms object, but getting them directly from there can ba a bit cumbersome. So we extract them here for convenience.\n",
    "sclrs = get_scalars(prms)"
   ]
  },
  {
   "cell_type": "code",
   "execution_count": 3,
   "metadata": {},
   "outputs": [
    {
     "name": "stdout",
     "output_type": "stream",
     "text": [
      "Checking Constraint for Effective Miles Traveled: \n"
     ]
    },
    {
     "ename": "ValueError",
     "evalue": "operands could not be broadcast together with shapes (4,) (4,10000) ",
     "output_type": "error",
     "traceback": [
      "\u001b[1;31m---------------------------------------------------------------------------\u001b[0m",
      "\u001b[1;31mValueError\u001b[0m                                Traceback (most recent call last)",
      "Cell \u001b[1;32mIn[3], line 5\u001b[0m\n\u001b[0;32m      1\u001b[0m \u001b[38;5;28mprint\u001b[39m(\u001b[38;5;124mf\u001b[39m\u001b[38;5;124m\"\u001b[39m\u001b[38;5;124mChecking Constraint for Effective Miles Traveled: \u001b[39m\u001b[38;5;124m\"\u001b[39m)\n\u001b[0;32m      3\u001b[0m x_test \u001b[38;5;241m=\u001b[39m np\u001b[38;5;241m.\u001b[39msum(prms[\u001b[38;5;124m\"\u001b[39m\u001b[38;5;124mT\u001b[39m\u001b[38;5;124m\"\u001b[39m], axis\u001b[38;5;241m=\u001b[39m\u001b[38;5;241m0\u001b[39m)\n\u001b[1;32m----> 5\u001b[0m \u001b[38;5;28;01mif\u001b[39;00m np\u001b[38;5;241m.\u001b[39mall(\u001b[43mx_test\u001b[49m\u001b[43m \u001b[49m\u001b[38;5;241;43m>\u001b[39;49m\u001b[43m \u001b[49m\u001b[43mnp\u001b[49m\u001b[38;5;241;43m.\u001b[39;49m\u001b[43msqueeze\u001b[49m\u001b[43m(\u001b[49m\u001b[43mprms\u001b[49m\u001b[43m[\u001b[49m\u001b[38;5;124;43m\"\u001b[39;49m\u001b[38;5;124;43mx\u001b[39;49m\u001b[38;5;124;43m\"\u001b[39;49m\u001b[43m]\u001b[49m\u001b[43m)\u001b[49m):\n\u001b[0;32m      6\u001b[0m     \u001b[38;5;28mprint\u001b[39m(\u001b[38;5;124m\"\u001b[39m\u001b[38;5;124mTRUE \u001b[39m\u001b[38;5;130;01m\\n\u001b[39;00m\u001b[38;5;124m\"\u001b[39m)\n\u001b[0;32m      7\u001b[0m \u001b[38;5;28;01melse\u001b[39;00m:\n",
      "\u001b[1;31mValueError\u001b[0m: operands could not be broadcast together with shapes (4,) (4,10000) "
     ]
    }
   ],
   "source": [
    "print(f\"Checking Constraint for Effective Miles Traveled: \")\n",
    "\n",
    "x_test = np.sum(prms[\"T\"], axis=0)\n",
    "\n",
    "if np.all(x_test > np.squeeze(prms[\"x\"])):\n",
    "    print(\"TRUE \\n\")\n",
    "else:\n",
    "    print(\"FALSE! Change T or X\\n\")"
   ]
  },
  {
   "cell_type": "code",
   "execution_count": 5,
   "metadata": {},
   "outputs": [
    {
     "name": "stdout",
     "output_type": "stream",
     "text": [
      "Average number of trips per mode, bucket\n",
      "[[1.40000000e+00 5.60000000e-01 5.60000000e-01 3.33333333e-01]\n",
      " [2.00000000e-01 3.60000000e-01 1.20000000e-01 6.66666667e-02]\n",
      " [1.00000000e-01 8.00000000e-02 1.20000000e-01 3.33333333e-02]\n",
      " [1.40000000e-01 4.00000000e-01 2.40000000e-01 6.66666667e-02]\n",
      " [1.40000000e-01 4.00000000e-01 2.40000000e-01 6.66666667e-02]\n",
      " [1.80000000e+00 1.00000000e-01 8.00000000e-07 1.66666667e-08]\n",
      " [1.00000000e+00 3.00000000e-01 2.40000000e-01 5.00000000e-02]]\n",
      "\n",
      "Estimating Average number of effective miles traveled per mode, bucket\n",
      "[[1.225e+00 2.450e+00 1.575e+01 4.000e+01]\n",
      " [1.750e-01 1.575e+00 3.375e+00 8.000e+00]\n",
      " [8.750e-02 3.500e-01 3.375e+00 4.000e+00]\n",
      " [2.100e-01 3.000e+00 9.000e+00 1.000e+01]\n",
      " [2.100e-01 2.500e+00 7.500e+00 1.000e+01]\n",
      " [9.000e-01 2.500e-01 1.000e-05 1.000e-06]\n",
      " [5.000e-01 7.500e-01 3.000e+00 3.000e+00]]\n",
      "Mutual congestion effects\n",
      "[0.07778475 0.07778475 0.02264725 0.06947163 0.011885   0.\n",
      " 0.0059425 ]\n",
      "Real Velocity of Travelers\n",
      "[[23.12908865 27.75490638 55.50981276 83.26471915]\n",
      " [23.12908865 27.75490638 55.50981276 83.26471915]\n",
      " [24.44018183 29.3282182  58.6564364  87.9846546 ]\n",
      " [13.99329904 13.99329904 65.30206218 65.30206218]\n",
      " [29.64556043 29.64556043 59.29112086 59.29112086]\n",
      " [ 5.          5.          5.          5.        ]\n",
      " [17.89335219 17.89335219 17.89335219 17.89335219]]\n",
      "\n",
      "Real Travel Times\n",
      "[[5.29636087e-02 8.82726811e-02 2.83733618e-01 4.80395543e-01]\n",
      " [7.56622981e-03 5.67467236e-02 6.08000610e-02 9.60791087e-02]\n",
      " [3.58016976e-03 1.19338992e-02 5.75384426e-02 4.54624732e-02]\n",
      " [1.50071830e-02 2.14388329e-01 1.37821069e-01 1.53134521e-01]\n",
      " [7.08369135e-03 8.43296589e-02 1.26494488e-01 1.68659318e-01]\n",
      " [1.80000000e-01 5.00000000e-02 2.00000000e-06 2.00000000e-07]\n",
      " [2.79433387e-02 4.19150080e-02 1.67660032e-01 1.67660032e-01]]\n",
      "\n",
      "Real Added Wait Time\n",
      "[[0.35       0.14       0.14       0.08333333]\n",
      " [0.05       0.09       0.03       0.01666667]\n",
      " [0.01       0.008      0.012      0.00333333]\n",
      " [0.07       0.2        0.12       0.03333333]\n",
      " [0.056      0.16       0.096      0.02666667]\n",
      " [0.         0.         0.         0.        ]\n",
      " [0.         0.         0.         0.        ]]\n",
      "\n",
      "Total Time per Mode-Bucket\n",
      "[[4.02963609e-01 2.28272681e-01 4.23733618e-01 5.63728877e-01]\n",
      " [5.75662298e-02 1.46746724e-01 9.08000610e-02 1.12745775e-01]\n",
      " [1.35801698e-02 1.99338992e-02 6.95384426e-02 4.87958065e-02]\n",
      " [8.50071830e-02 4.14388329e-01 2.57821069e-01 1.86467854e-01]\n",
      " [6.30836914e-02 2.44329659e-01 2.22494488e-01 1.95325985e-01]\n",
      " [1.80000000e-01 5.00000000e-02 2.00000000e-06 2.00000000e-07]\n",
      " [2.79433387e-02 4.19150080e-02 1.67660032e-01 1.67660032e-01]]\n",
      "\n",
      "Total per Person Travel Time: 4.482504760886545 hrs\n",
      "Checking Total Time Constraint:\n",
      "\n",
      "TRUE\n",
      "\n"
     ]
    }
   ],
   "source": [
    "print(f\"Average number of trips per mode, bucket\")\n",
    "trips = np.zeros(prms[\"T\"].shape)\n",
    "for i in range (trips.shape[1]):\n",
    "    trips[:,i] = prms[\"T\"][:,i] / prms[\"d^e\"][i]\n",
    "print(f\"{trips}\\n\")\n",
    "\n",
    "print(\"Estimating Average number of effective miles traveled per mode, bucket\")\n",
    "T_actual = np.multiply(trips, prms[\"d\"])\n",
    "print(T_actual)\n",
    "\n",
    "print(\"Mutual congestion effects\")\n",
    "Total_mode_actual = np.sum(T_actual, axis = 1)\n",
    "congestion_effects = np.zeros_like(Total_mode_actual)\n",
    "for i_1 in range (T_actual.shape[0]):\n",
    "    c_e_counter = 0\n",
    "    for i_2 in range (T_actual.shape[0]):\n",
    "        c_e_counter += prms[\"c\"][i_1, i_2] * Total_mode_actual[i_2]\n",
    "    congestion_effects[i_1] = c_e_counter\n",
    "congestion_effects = congestion_effects * sclrs[\"g\"]\n",
    "print(congestion_effects)\n",
    "\n",
    "print(\"Real Velocity of Travelers\")\n",
    "v_real = prms[\"v_max\"] * np.exp(-1 * congestion_effects.reshape(prms[\"v_max\"].shape[0],1))\n",
    "print(f\"{v_real}\\n\")\n",
    "\n",
    "print(\"Real Travel Times\")\n",
    "t_travel = T_actual / v_real\n",
    "print(f\"{t_travel}\\n\")\n",
    "\n",
    "print(\"Real Added Wait Time\")\n",
    "t_wait = trips * prms[\"t^t\"]\n",
    "print(f\"{t_wait}\\n\")\n",
    "\n",
    "print(\"Total Time per Mode-Bucket\")\n",
    "t_total = t_travel + t_wait\n",
    "print(f\"{t_total}\\n\")\n",
    "\n",
    "print(f\"Total per Person Travel Time: {np.sum(t_total)} hrs\")\n",
    "\n",
    "print(\"Checking Total Time Constraint:\\n\")\n",
    "if(np.sum(t_total) > sclrs[\"t_max\"]):\n",
    "    print(f\"FALSE. Travel less, or reconsider parameters.\\n\")\n",
    "else:\n",
    "    print(\"TRUE\\n\")"
   ]
  },
  {
   "cell_type": "code",
   "execution_count": 32,
   "metadata": {},
   "outputs": [
    {
     "name": "stdout",
     "output_type": "stream",
     "text": [
      "System Maximum Capacity\n",
      "[507352.94117647]\n",
      "\n",
      "Lowest Renewable Available\n",
      "71662.49999999999\n",
      "\n",
      "Normal Dispatchable Expectation\n",
      "[435690.44117647]\n",
      "\n",
      "Electricity Expended / Person\n",
      "[[0.03888889 0.315      0.5625     1.14285714]\n",
      " [0.         0.075      0.225      0.41      ]]\n",
      "\n",
      "kWh / hr load  / Person\n",
      "[[0.00277778 0.02423077 0.05113636 0.11428571]\n",
      " [0.         0.00357143 0.0140625  0.041     ]]\n",
      "\n",
      "kWh / hr load\n",
      "[[ 1388.88888889 12115.38461538 25568.18181818 57142.85714286]\n",
      " [    0.          1785.71428571  7031.25       20500.        ]]\n",
      "\n",
      "Baseline Load (kW)\n",
      "[[375000.]\n",
      " [337500.]\n",
      " [337500.]\n",
      " [337500.]\n",
      " [300000.]\n",
      " [337500.]\n",
      " [337500.]\n",
      " [412500.]\n",
      " [412500.]\n",
      " [412500.]\n",
      " [412500.]\n",
      " [412500.]\n",
      " [412500.]\n",
      " [412500.]\n",
      " [375000.]\n",
      " [375000.]\n",
      " [375000.]\n",
      " [375000.]\n",
      " [375000.]\n",
      " [375000.]\n",
      " [375000.]\n",
      " [375000.]\n",
      " [375000.]\n",
      " [375000.]]\n",
      "\n",
      "Total Load (kW)\n",
      "[[472998.]\n",
      " [435498.]\n",
      " [433713.]\n",
      " [433713.]\n",
      " [396213.]\n",
      " [435498.]\n",
      " [378356.]\n",
      " [427788.]\n",
      " [422704.]\n",
      " [441815.]\n",
      " [441815.]\n",
      " [441815.]\n",
      " [441815.]\n",
      " [441815.]\n",
      " [404315.]\n",
      " [404315.]\n",
      " [404315.]\n",
      " [404315.]\n",
      " [404315.]\n",
      " [397319.]\n",
      " [480029.]\n",
      " [480029.]\n",
      " [480029.]\n",
      " [480029.]]\n",
      "\n",
      "Max Load Required by Dispatch Resources (kW)\n",
      "401335.5\n",
      "\n",
      "Checking Max Load Constraint (kW)\n",
      "TRUE\n",
      "\n"
     ]
    }
   ],
   "source": [
    "#How we understand when vehicles will be charging\n",
    "def get_time_charge(i):\n",
    "    result_matrix = np.ones_like(t_b_electric)\n",
    "\n",
    "    result_matrix[(i-t_b_electric) % 24 >= (t_e_electric - t_b_electric) % 24] = 0\n",
    "\n",
    "    return result_matrix * load_rates\n",
    "\n",
    "print(\"System Maximum Capacity\")\n",
    "l_max = sclrs[\"l_b\"] * 1/sclrs[\"lf\"] * (1 + sclrs[\"rm\"])\n",
    "print(f\"{l_max}\\n\")\n",
    "\n",
    "print(\"Lowest Renewable Available\")\n",
    "renewable_avail = prms[\"r\"][:,1] * sclrs[\"h_s\"] + prms[\"r\"][:,0] * sclrs[\"h_w\"]\n",
    "r_min = min(renewable_avail)\n",
    "print(f\"{r_min}\\n\")\n",
    "\n",
    "print(\"Normal Dispatchable Expectation\")\n",
    "dispatch_max = l_max - r_min\n",
    "print(f\"{dispatch_max}\\n\")\n",
    "\n",
    "print(\"Electricity Expended / Person\")\n",
    "indeces_electric = [1,4]\n",
    "T_actual_electric = T_actual[indeces_electric, :]\n",
    "e_electric = prms[\"e\"][indeces_electric, :]\n",
    "electricity_expended = T_actual_electric / e_electric\n",
    "print(f\"{electricity_expended}\\n\")\n",
    "\n",
    "print(\"kWh / hr load  / Person\")\n",
    "t_b_electric = prms[\"t^b\"][indeces_electric,:]\n",
    "t_e_electric = prms[\"t^e\"][indeces_electric,:]\n",
    "charge_intervals = (t_e_electric - t_b_electric) % 24\n",
    "load_rates_normal = electricity_expended / charge_intervals\n",
    "print(f\"{load_rates_normal}\\n\")\n",
    "\n",
    "print(\"kWh / hr load\")\n",
    "load_rates = load_rates_normal * sclrs[\"i\"]\n",
    "print(f\"{load_rates}\\n\")\n",
    "\n",
    "print(\"Baseline Load (kW)\")\n",
    "baseline_load = sclrs[\"l_b\"] * prms[\"l_b^t\"]\n",
    "print(f\"{baseline_load}\\n\")\n",
    "\n",
    "print(\"Total Load (kW)\")\n",
    "time_block = np.zeros((t_b_electric.shape[0], t_b_electric.shape[1], 24), dtype=int)\n",
    "total_load = np.zeros_like(baseline_load)\n",
    "for k in np.arange(24):\n",
    "    time_block[:, :, k] = get_time_charge(k)\n",
    "    total_load[k] = baseline_load[k] + np.sum(time_block[:,:,k])\n",
    "print(f\"{total_load}\\n\")\n",
    "\n",
    "print(\"Max Load Required by Dispatch Resources (kW)\")\n",
    "max_dispatchable_load = np.max(np.squeeze(total_load) - renewable_avail)\n",
    "print(f\"{max_dispatchable_load}\\n\")\n",
    "\n",
    "print(\"Checking Max Load Constraint (kW)\")\n",
    "if(max_dispatchable_load > dispatch_max):\n",
    "    print(f\"FALSE. Travel less, or reconsider parameters.\\n\")\n",
    "else:\n",
    "    print(\"TRUE\\n\")\n",
    "\n",
    "\n",
    "\n"
   ]
  },
  {
   "cell_type": "markdown",
   "metadata": {},
   "source": [
    "alpha dictionary:\n",
    "\n",
    "0: Trips\n",
    "\n",
    "1: Time\n",
    "\n",
    "2: Fuel\n",
    "\n",
    "3: Effort\n",
    "\n",
    "4: Electricity\n",
    "\n",
    "5: Safety"
   ]
  },
  {
   "cell_type": "code",
   "execution_count": 33,
   "metadata": {},
   "outputs": [
    {
     "name": "stdout",
     "output_type": "stream",
     "text": [
      "Number of extra trips, per bucket:\n",
      "[2.5        1.         0.72       0.28333333]\n",
      "\n",
      "Utility from extra trips:\n",
      "410.65429492683876\n"
     ]
    },
    {
     "name": "stderr",
     "output_type": "stream",
     "text": [
      "C:\\Users\\cjgir\\AppData\\Local\\Temp\\ipykernel_20672\\4091707781.py:11: DeprecationWarning: Conversion of an array with ndim > 0 to a scalar is deprecated, and will error in future. Ensure you extract a single element from your array before performing this operation. (Deprecated NumPy 1.25.)\n",
      "  U[0] = prms[\"alpha\"][0] * np.sum(np.log(extra_trips + 1))\n"
     ]
    }
   ],
   "source": [
    "#Calculate Utility from Extra Trips Added:\n",
    "\n",
    "U = np.zeros([6])\n",
    "\n",
    "print(\"Number of extra trips, per bucket:\")\n",
    "extra_miles = np.sum(prms[\"T\"], axis=0) - np.squeeze(prms[\"x\"])\n",
    "extra_trips = extra_miles / np.squeeze(prms[\"d^e\"])\n",
    "print(f\"{extra_trips}\\n\")\n",
    "\n",
    "print(\"Utility from extra trips:\")\n",
    "U[0] = prms[\"alpha\"][0] * np.sum(np.log(extra_trips + 1))\n",
    "print(U[0])\n"
   ]
  },
  {
   "cell_type": "code",
   "execution_count": 34,
   "metadata": {},
   "outputs": [
    {
     "name": "stdout",
     "output_type": "stream",
     "text": [
      "Utility from Time Cost:\n",
      "-130.0312478068984\n"
     ]
    },
    {
     "name": "stderr",
     "output_type": "stream",
     "text": [
      "C:\\Users\\cjgir\\AppData\\Local\\Temp\\ipykernel_20672\\1492204694.py:4: DeprecationWarning: Conversion of an array with ndim > 0 to a scalar is deprecated, and will error in future. Ensure you extract a single element from your array before performing this operation. (Deprecated NumPy 1.25.)\n",
      "  U[1] = prms[\"alpha\"][1] * np.sum(t_total)\n"
     ]
    }
   ],
   "source": [
    "#Calculate Utility from Time Spent:\n",
    "\n",
    "print(\"Utility from Time Cost:\")\n",
    "U[1] = prms[\"alpha\"][1] * np.sum(t_total)\n",
    "print(U[1])"
   ]
  },
  {
   "cell_type": "code",
   "execution_count": 35,
   "metadata": {},
   "outputs": [
    {
     "name": "stdout",
     "output_type": "stream",
     "text": [
      "Fuel Expended: gal / Person:\n",
      "[[0.037975   0.06604348 0.3906     0.95384615]\n",
      " [0.00120556 0.00434    0.03948113 0.04509091]\n",
      " [0.         0.0155     0.03985714 0.03875   ]]\n",
      "\n",
      "Utility from Fuel:\n",
      "-16.326893716861026\n"
     ]
    },
    {
     "name": "stderr",
     "output_type": "stream",
     "text": [
      "C:\\Users\\cjgir\\AppData\\Local\\Temp\\ipykernel_20672\\522320741.py:12: DeprecationWarning: Conversion of an array with ndim > 0 to a scalar is deprecated, and will error in future. Ensure you extract a single element from your array before performing this operation. (Deprecated NumPy 1.25.)\n",
      "  U[2] = prms[\"alpha\"][2] * np.sum(fuel_expended)\n"
     ]
    }
   ],
   "source": [
    "#Calculate Utility from Fuel Cost:\n",
    "\n",
    "fuel_indeces = [0,2,3]\n",
    "f_fuel = prms[\"f\"][fuel_indeces, :]\n",
    "T_actual_fuel = T_actual[fuel_indeces, :]\n",
    "\n",
    "print(\"Fuel Expended: gal / Person:\")\n",
    "fuel_expended = T_actual_fuel/f_fuel\n",
    "print(f\"{fuel_expended}\\n\")\n",
    "\n",
    "print(\"Utility from Fuel:\")\n",
    "U[2] = prms[\"alpha\"][2] * np.sum(fuel_expended)\n",
    "print(U[2])"
   ]
  },
  {
   "cell_type": "code",
   "execution_count": 36,
   "metadata": {},
   "outputs": [
    {
     "name": "stdout",
     "output_type": "stream",
     "text": [
      "Utility from Effort:\n",
      "-29.355010937499998\n",
      "\n",
      "[[1.0718750e-03 1.0718750e-02 4.4296875e-01 4.8000000e+00]\n",
      " [1.5312500e-04 6.8906250e-03 9.4921875e-02 9.6000000e-01]\n",
      " [7.6562500e-04 1.5312500e-02 9.4921875e-01 4.8000000e+00]\n",
      " [0.0000000e+00 1.8000000e-02 2.7000000e-01 1.2000000e+00]\n",
      " [0.0000000e+00 1.2500000e-03 1.8750000e-02 1.2000000e-01]\n",
      " [4.5000000e-01 6.2500000e-01 0.0000000e+00 0.0000000e+00]\n",
      " [5.0000000e-02 3.7500000e-01 7.5000000e+00 3.6000000e+01]]\n"
     ]
    },
    {
     "name": "stderr",
     "output_type": "stream",
     "text": [
      "C:\\Users\\cjgir\\AppData\\Local\\Temp\\ipykernel_20672\\2486519971.py:8: DeprecationWarning: Conversion of an array with ndim > 0 to a scalar is deprecated, and will error in future. Ensure you extract a single element from your array before performing this operation. (Deprecated NumPy 1.25.)\n",
      "  U[3] = prms[\"alpha\"][3] * np.sum(np.multiply(effort_matrix, prms[\"b\"]))\n"
     ]
    }
   ],
   "source": [
    "#Calculate Utility from Effort\n",
    "\n",
    "# print(T_actual)\n",
    "# print(np.pow(prms[\"d\"],2))\n",
    "\n",
    "print(\"Utility from Effort:\")\n",
    "effort_matrix = np.multiply(trips, np.pow(prms[\"d\"],2))\n",
    "U[3] = prms[\"alpha\"][3] * np.sum(np.multiply(effort_matrix, prms[\"b\"]))\n",
    "print(f\"{U[3]}\\n\")\n",
    "\n",
    "print(np.multiply(effort_matrix, prms[\"b\"]))"
   ]
  },
  {
   "cell_type": "code",
   "execution_count": 37,
   "metadata": {},
   "outputs": [
    {
     "name": "stdout",
     "output_type": "stream",
     "text": [
      "Load Expected to be Dispatched to Thermal (kW):\n",
      "[401335.5 363835.5 351813.  351813.  304075.5 325810.5 259893.5 268375.5\n",
      " 235504.  219515.  220977.5 188802.5 197577.5 210740.  190790.  206877.5\n",
      " 224427.5 253677.5 262452.5 284706.5 377654.  387891.5 387891.5 398129. ]\n",
      "\n",
      "Expected Dispatch to Thermal Load Over Minimum (kW):\n",
      "[212533.  175033.  163010.5 163010.5 115273.  137008.   71091.   79573.\n",
      "  46701.5  30712.5  32175.       0.    8775.   21937.5   1987.5  18075.\n",
      "  35625.   64875.   73650.   95904.  188851.5 199089.  199089.  209326.5]\n",
      "\n",
      "Marginal Effects on Price:\n",
      "[4.01513565e+01 2.72324899e+01 2.36199317e+01 2.36199317e+01\n",
      " 1.18114351e+01 1.66855041e+01 4.49238247e+00 5.62832207e+00\n",
      " 1.93869342e+00 8.38451250e-01 9.20205000e-01 0.00000000e+00\n",
      " 6.84450000e-02 4.27781250e-01 3.51125000e-03 2.90405000e-01\n",
      " 1.12812500e+00 3.74112500e+00 4.82162000e+00 8.17562419e+00\n",
      " 3.17021236e+01 3.52323822e+01 3.52323822e+01 3.89489632e+01]\n",
      "\n",
      "Baseline Prices:\n",
      "[0.0785 0.0628 0.0785 0.0314 0.0314 0.0314 0.0471 0.0471 0.0785 0.1413\n",
      " 0.1413 0.1413 0.2041 0.2041 0.1256 0.157  0.1413 0.2355 0.314  0.314\n",
      " 0.2983 0.2983 0.2826 0.2826]\n",
      "\n",
      "Adjusted Price for Marginal Impact:\n",
      "[6.38226297 4.33830091 3.78682927 3.73972927 1.88579532 2.65102414\n",
      " 0.75240405 0.93074657 0.38287487 0.27293685 0.28577219 0.1413\n",
      " 0.21484587 0.27126166 0.12615127 0.20259358 0.31841562 0.82285662\n",
      " 1.07099434 1.597573   5.27553341 5.829784   5.814084   6.39758722]\n",
      "\n",
      "Utility from Cost:\n",
      "-9.717465999328585\n",
      "\n"
     ]
    },
    {
     "name": "stderr",
     "output_type": "stream",
     "text": [
      "C:\\Users\\cjgir\\AppData\\Local\\Temp\\ipykernel_20672\\3999311481.py:28: DeprecationWarning: Conversion of an array with ndim > 0 to a scalar is deprecated, and will error in future. Ensure you extract a single element from your array before performing this operation. (Deprecated NumPy 1.25.)\n",
      "  U[4] = prms[\"alpha\"][4] * cost_count_electric\n"
     ]
    }
   ],
   "source": [
    "# Electricity Cost\n",
    "\n",
    "print(\"Load Expected to be Dispatched to Thermal (kW):\")\n",
    "dispatchable_load = np.squeeze(total_load) - renewable_avail\n",
    "print(f\"{dispatchable_load}\\n\")\n",
    "\n",
    "print(\"Expected Dispatch to Thermal Load Over Minimum (kW):\")\n",
    "min_dispatch = min(dispatchable_load)\n",
    "dispatch_excess = dispatchable_load - min_dispatch\n",
    "print(f\"{dispatch_excess}\\n\")\n",
    "\n",
    "print(\"Marginal Effects on Price:\")\n",
    "min_baseline_load = min(baseline_load)\n",
    "marginal_effects = sclrs[\"gamma\"] * np.pow(dispatch_excess / min_baseline_load, 2)\n",
    "print(f\"{marginal_effects}\\n\")\n",
    "\n",
    "print(\"Baseline Prices:\")\n",
    "print(f\"{sclrs[\"p_bse\"] * np.squeeze(prms[\"p_b^t\"])}\\n\")\n",
    "\n",
    "print(\"Adjusted Price for Marginal Impact:\")\n",
    "real_prices = sclrs[\"p_bse\"] * (np.squeeze(prms[\"p_b^t\"]) + marginal_effects)\n",
    "print(f\"{real_prices}\\n\")\n",
    "\n",
    "print(\"Utility from Cost:\")\n",
    "cost_count_electric = 0\n",
    "for i in range(24):\n",
    "    cost_count_electric += np.sum(time_block[:,:,i] / sclrs[\"i\"] * real_prices[i])\n",
    "U[4] = prms[\"alpha\"][4] * cost_count_electric\n",
    "print(f\"{U[4]}\\n\")\n",
    "\n",
    "\n",
    "\n",
    "#dynamic_electricity_price = sclrs[\"gamma\"] * np.pow(dispatchable_load, 2) * \n",
    "\n",
    "#print(dynamic_electricity_price)"
   ]
  },
  {
   "cell_type": "code",
   "execution_count": 38,
   "metadata": {},
   "outputs": [
    {
     "name": "stdout",
     "output_type": "stream",
     "text": [
      "Utility from Safety Effects:\n",
      "-29.032\n",
      "\n"
     ]
    },
    {
     "name": "stderr",
     "output_type": "stream",
     "text": [
      "C:\\Users\\cjgir\\AppData\\Local\\Temp\\ipykernel_20672\\2207670311.py:4: DeprecationWarning: Conversion of an array with ndim > 0 to a scalar is deprecated, and will error in future. Ensure you extract a single element from your array before performing this operation. (Deprecated NumPy 1.25.)\n",
      "  U[5] = prms[\"alpha\"][5] * np.sum(np.multiply(prms[\"nu\"], T_actual) * sclrs[\"w\"])\n"
     ]
    }
   ],
   "source": [
    "# Calculate Safety Impacts\n",
    "\n",
    "print(\"Utility from Safety Effects:\")\n",
    "U[5] = prms[\"alpha\"][5] * np.sum(np.multiply(prms[\"nu\"], T_actual) * sclrs[\"w\"])\n",
    "print(f\"{U[5]}\\n\")"
   ]
  },
  {
   "cell_type": "code",
   "execution_count": 39,
   "metadata": {},
   "outputs": [
    {
     "name": "stdout",
     "output_type": "stream",
     "text": [
      "Final Utility Value:\n",
      "196.1916764662507\n"
     ]
    }
   ],
   "source": [
    "# Finally, What's the final utility!?\n",
    "\n",
    "print(\"Final Utility Value:\")\n",
    "maximize_me = np.sum(U)\n",
    "print(maximize_me)"
   ]
  }
 ],
 "metadata": {
  "kernelspec": {
   "display_name": "Python 3",
   "language": "python",
   "name": "python3"
  },
  "language_info": {
   "codemirror_mode": {
    "name": "ipython",
    "version": 3
   },
   "file_extension": ".py",
   "mimetype": "text/x-python",
   "name": "python",
   "nbconvert_exporter": "python",
   "pygments_lexer": "ipython3",
   "version": "3.12.10"
  }
 },
 "nbformat": 4,
 "nbformat_minor": 2
}
